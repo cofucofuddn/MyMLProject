{
 "cells": [
  {
   "cell_type": "code",
   "execution_count": null,
   "id": "efdc4628",
   "metadata": {},
   "outputs": [],
   "source": [
    "-- vocab (word dictionary)\n",
    "-- Grammer\n",
    "\n",
    "vocab+Grammer -> Sentances"
   ]
  },
  {
   "cell_type": "code",
   "execution_count": null,
   "id": "279b72a2",
   "metadata": {},
   "outputs": [],
   "source": [
    "-- Keyword\n",
    "-- Syntax\n",
    "\n",
    "Keyword+Syntax -> Instructions (Codes)"
   ]
  },
  {
   "cell_type": "code",
   "execution_count": null,
   "id": "a8a997f9",
   "metadata": {},
   "outputs": [],
   "source": []
  },
  {
   "cell_type": "code",
   "execution_count": null,
   "id": "9358d3dc",
   "metadata": {},
   "outputs": [],
   "source": [
    "print()"
   ]
  },
  {
   "cell_type": "code",
   "execution_count": null,
   "id": "aea7eb04",
   "metadata": {},
   "outputs": [],
   "source": [
    "as in not for while rajan "
   ]
  },
  {
   "cell_type": "code",
   "execution_count": null,
   "id": "96eeff2f",
   "metadata": {},
   "outputs": [],
   "source": []
  },
  {
   "cell_type": "code",
   "execution_count": 1,
   "id": "078ea8d8",
   "metadata": {},
   "outputs": [
    {
     "name": "stdout",
     "output_type": "stream",
     "text": [
      "Wow! this is so COOL :) \n"
     ]
    }
   ],
   "source": [
    "print('Wow! this is so COOL :) ')"
   ]
  },
  {
   "cell_type": "code",
   "execution_count": 2,
   "id": "30ba8c37",
   "metadata": {},
   "outputs": [
    {
     "name": "stdout",
     "output_type": "stream",
     "text": [
      "Did u Observe ? 😃\n"
     ]
    }
   ],
   "source": [
    "print('Did u Observe ? 😃')"
   ]
  },
  {
   "cell_type": "code",
   "execution_count": null,
   "id": "8639d974",
   "metadata": {},
   "outputs": [],
   "source": [
    "print{'hi'}"
   ]
  },
  {
   "cell_type": "code",
   "execution_count": null,
   "id": "65597597",
   "metadata": {},
   "outputs": [],
   "source": [
    "print('hi') #ok\n",
    "print(hi) # error\n",
    "Print('hi') # error\n",
    "prent('hi') # error\n",
    "print('hi) # error\n",
    "print{'hi'} # error\n"
   ]
  },
  {
   "cell_type": "code",
   "execution_count": null,
   "id": "2e6d5e0f",
   "metadata": {},
   "outputs": [],
   "source": []
  },
  {
   "cell_type": "code",
   "execution_count": 3,
   "id": "bac2cd66",
   "metadata": {},
   "outputs": [
    {
     "name": "stdout",
     "output_type": "stream",
     "text": [
      "this is ok\n",
      "this is also ok\n",
      "this is\n",
      "also\n",
      "ok \n",
      "here\n"
     ]
    }
   ],
   "source": [
    "print('this is ok')\n",
    "print(\"this is also ok\")\n",
    "print(\"\"\"this is\n",
    "also\n",
    "ok \n",
    "here\"\"\")"
   ]
  },
  {
   "cell_type": "code",
   "execution_count": 4,
   "id": "857f590f",
   "metadata": {},
   "outputs": [
    {
     "name": "stdout",
     "output_type": "stream",
     "text": [
      "did u visit big bro's cafe? \n"
     ]
    }
   ],
   "source": [
    "# using double and single together\n",
    "# comments\n",
    "\n",
    "print(\"did u visit big bro's cafe? \")"
   ]
  },
  {
   "cell_type": "code",
   "execution_count": 6,
   "id": "f8d145f2",
   "metadata": {},
   "outputs": [
    {
     "name": "stdout",
     "output_type": "stream",
     "text": [
      "test\n"
     ]
    }
   ],
   "source": [
    "#shift+enter is the shortcut\n",
    "\n",
    "print('test')"
   ]
  },
  {
   "cell_type": "code",
   "execution_count": null,
   "id": "cd835316",
   "metadata": {},
   "outputs": [],
   "source": [
    "# Variables\n"
   ]
  },
  {
   "cell_type": "code",
   "execution_count": 7,
   "id": "83ec46ef",
   "metadata": {},
   "outputs": [
    {
     "data": {
      "text/plain": [
       "12"
      ]
     },
     "execution_count": 7,
     "metadata": {},
     "output_type": "execute_result"
    }
   ],
   "source": [
    "5+7"
   ]
  },
  {
   "cell_type": "code",
   "execution_count": 8,
   "id": "1a75a7f8",
   "metadata": {},
   "outputs": [
    {
     "ename": "TypeError",
     "evalue": "can only concatenate str (not \"int\") to str",
     "output_type": "error",
     "traceback": [
      "\u001b[0;31m---------------------------------------------------------------------------\u001b[0m",
      "\u001b[0;31mTypeError\u001b[0m                                 Traceback (most recent call last)",
      "\u001b[0;32m<ipython-input-8-8a1b080068df>\u001b[0m in \u001b[0;36m<module>\u001b[0;34m\u001b[0m\n\u001b[0;32m----> 1\u001b[0;31m \u001b[0;34m\"5\"\u001b[0m\u001b[0;34m+\u001b[0m\u001b[0;36m7\u001b[0m\u001b[0;34m\u001b[0m\u001b[0;34m\u001b[0m\u001b[0m\n\u001b[0m",
      "\u001b[0;31mTypeError\u001b[0m: can only concatenate str (not \"int\") to str"
     ]
    }
   ],
   "source": [
    "\"5\"+7"
   ]
  },
  {
   "cell_type": "code",
   "execution_count": 9,
   "id": "6cd04c20",
   "metadata": {},
   "outputs": [
    {
     "data": {
      "text/plain": [
       "'57'"
      ]
     },
     "execution_count": 9,
     "metadata": {},
     "output_type": "execute_result"
    }
   ],
   "source": [
    "\"5\"+\"7\""
   ]
  },
  {
   "cell_type": "code",
   "execution_count": 10,
   "id": "3bad15ba",
   "metadata": {},
   "outputs": [],
   "source": [
    "#variables\n",
    "\n",
    "name='susan'\n",
    "age=81\n",
    "height=5.5\n",
    "isIndian=False"
   ]
  },
  {
   "cell_type": "code",
   "execution_count": 11,
   "id": "aa6081c7",
   "metadata": {},
   "outputs": [
    {
     "name": "stdout",
     "output_type": "stream",
     "text": [
      "susan\n",
      "81\n",
      "5.5\n",
      "False\n"
     ]
    }
   ],
   "source": [
    "print(name)\n",
    "print(age)\n",
    "print(height)\n",
    "print(isIndian)"
   ]
  },
  {
   "cell_type": "code",
   "execution_count": 12,
   "id": "f74d910f",
   "metadata": {},
   "outputs": [
    {
     "name": "stdout",
     "output_type": "stream",
     "text": [
      "susan 81 5.5 False\n"
     ]
    }
   ],
   "source": [
    "print(name,age,height,isIndian)"
   ]
  },
  {
   "cell_type": "code",
   "execution_count": 13,
   "id": "6ecc3558",
   "metadata": {},
   "outputs": [
    {
     "name": "stdout",
     "output_type": "stream",
     "text": [
      "Hey  susan\n"
     ]
    }
   ],
   "source": [
    "print(\"Hey \",name)"
   ]
  },
  {
   "cell_type": "code",
   "execution_count": 16,
   "id": "44ec3e78",
   "metadata": {},
   "outputs": [
    {
     "data": {
      "text/plain": [
       "str"
      ]
     },
     "execution_count": 16,
     "metadata": {},
     "output_type": "execute_result"
    }
   ],
   "source": [
    "# type() built in function provides the datatype of a \n",
    "# given variable\n",
    "\n",
    "type(name)\n"
   ]
  },
  {
   "cell_type": "code",
   "execution_count": 17,
   "id": "a7109a90",
   "metadata": {},
   "outputs": [
    {
     "data": {
      "text/plain": [
       "int"
      ]
     },
     "execution_count": 17,
     "metadata": {},
     "output_type": "execute_result"
    }
   ],
   "source": [
    "type(age)"
   ]
  },
  {
   "cell_type": "code",
   "execution_count": 18,
   "id": "284cb2f6",
   "metadata": {},
   "outputs": [
    {
     "data": {
      "text/plain": [
       "float"
      ]
     },
     "execution_count": 18,
     "metadata": {},
     "output_type": "execute_result"
    }
   ],
   "source": [
    "type(height)"
   ]
  },
  {
   "cell_type": "code",
   "execution_count": 19,
   "id": "58e8bb54",
   "metadata": {},
   "outputs": [
    {
     "data": {
      "text/plain": [
       "bool"
      ]
     },
     "execution_count": 19,
     "metadata": {},
     "output_type": "execute_result"
    }
   ],
   "source": [
    "type(isIndian)"
   ]
  },
  {
   "cell_type": "code",
   "execution_count": null,
   "id": "62df5562",
   "metadata": {},
   "outputs": [],
   "source": []
  },
  {
   "cell_type": "code",
   "execution_count": 20,
   "id": "f3b5e087",
   "metadata": {},
   "outputs": [],
   "source": [
    "# ask the user to provide inputs"
   ]
  },
  {
   "cell_type": "code",
   "execution_count": 21,
   "id": "be239fb1",
   "metadata": {},
   "outputs": [
    {
     "name": "stdout",
     "output_type": "stream",
     "text": [
      "rajan\n"
     ]
    },
    {
     "data": {
      "text/plain": [
       "'rajan'"
      ]
     },
     "execution_count": 21,
     "metadata": {},
     "output_type": "execute_result"
    }
   ],
   "source": [
    "input()"
   ]
  },
  {
   "cell_type": "code",
   "execution_count": 22,
   "id": "fe8379c6",
   "metadata": {},
   "outputs": [
    {
     "name": "stdout",
     "output_type": "stream",
     "text": [
      "jamesbond\n"
     ]
    }
   ],
   "source": [
    "user = input()"
   ]
  },
  {
   "cell_type": "code",
   "execution_count": 23,
   "id": "258a1d00",
   "metadata": {},
   "outputs": [
    {
     "data": {
      "text/plain": [
       "'jamesbond'"
      ]
     },
     "execution_count": 23,
     "metadata": {},
     "output_type": "execute_result"
    }
   ],
   "source": [
    "user"
   ]
  },
  {
   "cell_type": "code",
   "execution_count": 25,
   "id": "358e7834",
   "metadata": {},
   "outputs": [
    {
     "name": "stdout",
     "output_type": "stream",
     "text": [
      "your name ?raj\n",
      "your city ?delhi\n",
      "your wish ?get peace\n",
      "Hi  raj\n",
      "you live in  delhi\n",
      "you wished for  get peace\n"
     ]
    }
   ],
   "source": [
    "# slam book app\n",
    "\n",
    "name= input('your name ?')\n",
    "city = input('your city ?')\n",
    "wish= input('your wish ?')\n",
    "\n",
    "\n",
    "print('Hi ',name)\n",
    "print('you live in ',city)\n",
    "print('you wished for ',wish)"
   ]
  },
  {
   "cell_type": "code",
   "execution_count": null,
   "id": "70752512",
   "metadata": {},
   "outputs": [],
   "source": []
  },
  {
   "cell_type": "code",
   "execution_count": 28,
   "id": "259a7ace",
   "metadata": {},
   "outputs": [
    {
     "name": "stdout",
     "output_type": "stream",
     "text": [
      "enter your age 21\n",
      "<class 'int'>\n"
     ]
    }
   ],
   "source": [
    "# please predict the output of the code below\n",
    "\n",
    "age= int( input('enter your age ') )\n",
    "\n",
    "print ( type(age) )\n"
   ]
  },
  {
   "cell_type": "code",
   "execution_count": null,
   "id": "0dedd168",
   "metadata": {},
   "outputs": [],
   "source": [
    "# str"
   ]
  },
  {
   "cell_type": "code",
   "execution_count": 29,
   "id": "1ca16fe2",
   "metadata": {},
   "outputs": [
    {
     "data": {
      "text/plain": [
       "8"
      ]
     },
     "execution_count": 29,
     "metadata": {},
     "output_type": "execute_result"
    }
   ],
   "source": [
    "int(\"8\")"
   ]
  },
  {
   "cell_type": "code",
   "execution_count": null,
   "id": "f45040da",
   "metadata": {},
   "outputs": [],
   "source": [
    "12 whole number\n",
    "(a+b)^2 Formula"
   ]
  },
  {
   "cell_type": "code",
   "execution_count": null,
   "id": "0165a8a2",
   "metadata": {},
   "outputs": [],
   "source": [
    "# function , type(), int() , input() , print()\n",
    "# type represents the kind of data ,string/float/int/bool"
   ]
  },
  {
   "cell_type": "code",
   "execution_count": 30,
   "id": "60033127",
   "metadata": {},
   "outputs": [],
   "source": [
    "#typecasting"
   ]
  },
  {
   "cell_type": "code",
   "execution_count": 31,
   "id": "41eb9aed",
   "metadata": {},
   "outputs": [
    {
     "name": "stdout",
     "output_type": "stream",
     "text": [
      "enter any number 3\n",
      "9\n"
     ]
    }
   ],
   "source": [
    "num = int(input('enter any number '))\n",
    "\n",
    "result = num * num\n",
    "\n",
    "\n",
    "print(result)"
   ]
  },
  {
   "cell_type": "code",
   "execution_count": null,
   "id": "cb3d4bac",
   "metadata": {},
   "outputs": [],
   "source": []
  },
  {
   "cell_type": "code",
   "execution_count": null,
   "id": "6aa8838c",
   "metadata": {},
   "outputs": [],
   "source": []
  },
  {
   "cell_type": "code",
   "execution_count": null,
   "id": "6d8a4d73",
   "metadata": {},
   "outputs": [],
   "source": []
  },
  {
   "cell_type": "code",
   "execution_count": null,
   "id": "3c6ea16c",
   "metadata": {},
   "outputs": [],
   "source": []
  },
  {
   "cell_type": "code",
   "execution_count": null,
   "id": "b6013ae7",
   "metadata": {},
   "outputs": [],
   "source": [
    "- if else"
   ]
  },
  {
   "cell_type": "code",
   "execution_count": null,
   "id": "1ae7f8a1",
   "metadata": {},
   "outputs": [],
   "source": []
  },
  {
   "cell_type": "code",
   "execution_count": 32,
   "id": "3ef0d60f",
   "metadata": {},
   "outputs": [
    {
     "name": "stdout",
     "output_type": "stream",
     "text": [
      "hey u can VOTE 💁\n",
      "hail ironman\n"
     ]
    }
   ],
   "source": [
    "age = 19\n",
    "\n",
    "\n",
    "if age>=18:\n",
    "    print('hey u can VOTE 💁')\n",
    "    \n",
    "print('hail ironman')"
   ]
  },
  {
   "cell_type": "code",
   "execution_count": null,
   "id": "35909d7c",
   "metadata": {},
   "outputs": [],
   "source": []
  },
  {
   "cell_type": "code",
   "execution_count": 33,
   "id": "5dc83adc",
   "metadata": {},
   "outputs": [
    {
     "name": "stdout",
     "output_type": "stream",
     "text": [
      "hail ironman\n"
     ]
    }
   ],
   "source": [
    "age = 11\n",
    "\n",
    "\n",
    "if age>=18:\n",
    "    print('hey u can VOTE 💁')\n",
    "    \n",
    "print('hail ironman')"
   ]
  },
  {
   "cell_type": "code",
   "execution_count": null,
   "id": "896f4a4d",
   "metadata": {},
   "outputs": [],
   "source": []
  },
  {
   "cell_type": "code",
   "execution_count": null,
   "id": "ebe588d7",
   "metadata": {},
   "outputs": [],
   "source": [
    ":\n",
    "    :\n",
    "        :\n",
    "            :\n",
    "                :\n",
    "                    :\n",
    "                        :\n",
    "                            :\n",
    "                                :"
   ]
  },
  {
   "cell_type": "code",
   "execution_count": null,
   "id": "034ae86f",
   "metadata": {},
   "outputs": [],
   "source": [
    "INDIA:\n",
    "    DELHI:\n",
    "        CHandniCHowk:\n",
    "            CAFE:\n",
    "                ME here"
   ]
  },
  {
   "cell_type": "code",
   "execution_count": null,
   "id": "4459cb9a",
   "metadata": {},
   "outputs": [],
   "source": []
  },
  {
   "cell_type": "code",
   "execution_count": null,
   "id": "24b7c3a8",
   "metadata": {},
   "outputs": [],
   "source": []
  },
  {
   "cell_type": "code",
   "execution_count": 34,
   "id": "9fd430b7",
   "metadata": {},
   "outputs": [
    {
     "name": "stdout",
     "output_type": "stream",
     "text": [
      "not valid for voting\n"
     ]
    }
   ],
   "source": [
    "age =12\n",
    "\n",
    "if age>=18:\n",
    "    print('valid for voting')\n",
    "else:\n",
    "    print('not valid for voting')"
   ]
  },
  {
   "cell_type": "code",
   "execution_count": null,
   "id": "2eeff1e3",
   "metadata": {},
   "outputs": [],
   "source": [
    "if True:\n",
    "    do this\n",
    "else:\n",
    "    do this"
   ]
  },
  {
   "cell_type": "code",
   "execution_count": null,
   "id": "9a8447b2",
   "metadata": {},
   "outputs": [],
   "source": []
  },
  {
   "cell_type": "code",
   "execution_count": null,
   "id": "e5e2c1c7",
   "metadata": {},
   "outputs": [],
   "source": [
    "# let us see if the no is between 15 and 20\n",
    "\n",
    "no=19\n",
    "\n",
    "if no>=15:\n",
    "    if no<=20:\n",
    "        print('no is found between 15 and 20')"
   ]
  },
  {
   "cell_type": "code",
   "execution_count": null,
   "id": "479a9e1e",
   "metadata": {},
   "outputs": [],
   "source": [
    "#logical operator and"
   ]
  },
  {
   "cell_type": "code",
   "execution_count": null,
   "id": "6f95d287",
   "metadata": {},
   "outputs": [],
   "source": [
    "if no>=15 and no<=20:\n",
    "    print('no is found between 15 and 20')"
   ]
  },
  {
   "cell_type": "code",
   "execution_count": null,
   "id": "3a9e9622",
   "metadata": {},
   "outputs": [],
   "source": []
  },
  {
   "cell_type": "code",
   "execution_count": 35,
   "id": "93143b8c",
   "metadata": {},
   "outputs": [],
   "source": [
    "# how to handle multiple conditions"
   ]
  },
  {
   "cell_type": "code",
   "execution_count": 36,
   "id": "d940b475",
   "metadata": {},
   "outputs": [
    {
     "name": "stdout",
     "output_type": "stream",
     "text": [
      "tell me ur division 7\n",
      "No Division\n"
     ]
    }
   ],
   "source": [
    "rank = int(input('tell me ur division '))\n",
    "\n",
    "if rank==1:\n",
    "    print('First Rank')\n",
    "    \n",
    "elif rank==2:\n",
    "    print('Second Rank')\n",
    "    \n",
    "elif rank==3:\n",
    "    print('Third Rank')\n",
    "    \n",
    "else:\n",
    "    # this else will only execute when all above conditions are FALSE.\n",
    "    print('No Division')"
   ]
  },
  {
   "cell_type": "code",
   "execution_count": null,
   "id": "4b0f92e7",
   "metadata": {},
   "outputs": [],
   "source": [
    "if condtion:\n",
    "    .\n",
    "    .\n",
    "    .\n",
    "    .\n",
    "    .\n",
    "    .\n",
    "    .\n",
    "    .\n",
    "    .\n",
    "    .\n",
    "    .\n",
    "    .\n",
    "    .\n",
    ".\n",
    ".\n",
    "."
   ]
  },
  {
   "cell_type": "code",
   "execution_count": 37,
   "id": "d974b409",
   "metadata": {},
   "outputs": [
    {
     "name": "stdout",
     "output_type": "stream",
     "text": [
      "enter any number -2\n",
      "Negative\n"
     ]
    }
   ],
   "source": [
    "no = int(input('enter any number '))\n",
    "\n",
    "if no>0:\n",
    "    print('+ve')\n",
    "    \n",
    "    \n",
    "elif no==0:\n",
    "    print('Neutral')\n",
    "    \n",
    "else:\n",
    "    print('Negative')"
   ]
  },
  {
   "cell_type": "code",
   "execution_count": null,
   "id": "a222fa12",
   "metadata": {},
   "outputs": [],
   "source": []
  },
  {
   "cell_type": "code",
   "execution_count": 38,
   "id": "75e1092b",
   "metadata": {},
   "outputs": [
    {
     "name": "stdout",
     "output_type": "stream",
     "text": [
      "1\n",
      "2\n",
      "3\n",
      "4\n",
      "5\n"
     ]
    }
   ],
   "source": [
    "meter= 1\n",
    "while(meter<=5):\n",
    "    print(meter)\n",
    "    \n",
    "    meter=meter+1"
   ]
  },
  {
   "cell_type": "code",
   "execution_count": null,
   "id": "04a9f9bd",
   "metadata": {},
   "outputs": [],
   "source": []
  },
  {
   "cell_type": "code",
   "execution_count": 39,
   "id": "3ad2f4fe",
   "metadata": {},
   "outputs": [
    {
     "name": "stdout",
     "output_type": "stream",
     "text": [
      "happiness\n",
      "3000\n",
      "bliss\n",
      "True\n",
      "Hate\n",
      "False\n"
     ]
    }
   ],
   "source": [
    "for item in ('happiness',3000,'bliss',True,'Hate',False):\n",
    "    \n",
    "    print(item)"
   ]
  },
  {
   "cell_type": "code",
   "execution_count": 40,
   "id": "5403a269",
   "metadata": {},
   "outputs": [
    {
     "name": "stdout",
     "output_type": "stream",
     "text": [
      "do you want to continue y/n ? y\n",
      "do you want to continue y/n ? y\n",
      "do you want to continue y/n ? y\n",
      "do you want to continue y/n ? y\n",
      "do you want to continue y/n ? y\n",
      "do you want to continue y/n ? y\n",
      "do you want to continue y/n ? n\n"
     ]
    }
   ],
   "source": [
    "choice='y'\n",
    "while(choice=='y'):\n",
    "    choice=input('do you want to continue y/n ? ')"
   ]
  },
  {
   "cell_type": "code",
   "execution_count": 41,
   "id": "73e80e1b",
   "metadata": {},
   "outputs": [
    {
     "name": "stdout",
     "output_type": "stream",
     "text": [
      "bread\n",
      "milk\n",
      "butter\n"
     ]
    }
   ],
   "source": [
    "for item in ('bread','milk','butter'):\n",
    "    print(item)"
   ]
  },
  {
   "cell_type": "code",
   "execution_count": null,
   "id": "70243345",
   "metadata": {},
   "outputs": [],
   "source": [
    "if no>=19:\n",
    "    "
   ]
  }
 ],
 "metadata": {
  "kernelspec": {
   "display_name": "Python 3",
   "language": "python",
   "name": "python3"
  },
  "language_info": {
   "codemirror_mode": {
    "name": "ipython",
    "version": 3
   },
   "file_extension": ".py",
   "mimetype": "text/x-python",
   "name": "python",
   "nbconvert_exporter": "python",
   "pygments_lexer": "ipython3",
   "version": "3.8.8"
  }
 },
 "nbformat": 4,
 "nbformat_minor": 5
}
